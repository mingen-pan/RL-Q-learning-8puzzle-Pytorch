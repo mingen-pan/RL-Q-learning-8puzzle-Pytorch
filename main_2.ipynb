{
 "cells": [
  {
   "cell_type": "code",
   "execution_count": null,
   "metadata": {
    "collapsed": true
   },
   "outputs": [],
   "source": [
    "from n_puzzle import N_puzzle\n",
    "from DQN import hidden_unit, Q_learning, RL_training"
   ]
  },
  {
   "cell_type": "code",
   "execution_count": null,
   "metadata": {
    "scrolled": true
   },
   "outputs": [],
   "source": [
    "network = Q_learning(72, [250,250], 4, hidden_unit)\n",
    "train = RL_training(3, 10, network, epsilon = 0.9, gamma = 0.9, lr = 1e-4)\n",
    "train.train(10001,1000)\n",
    "train.test()\n",
    "train.optimizer.param_groups[0]['lr'] = 5e-5\n",
    "train.epsilon = 0.5\n",
    "train.train(10001,1000)\n",
    "train.test()\n",
    "train.optimizer.param_groups[0]['lr'] = 1e-5\n",
    "train.epsilon = 0.5\n",
    "train.train(10001,1000)\n",
    "train.test()\n",
    "train.optimizer.param_groups[0]['lr'] = 5e-6\n",
    "train.epsilon = 0.5\n",
    "train.train(10001,1000)\n",
    "train.test()"
   ]
  },
  {
   "cell_type": "code",
   "execution_count": null,
   "metadata": {
    "collapsed": true
   },
   "outputs": [],
   "source": []
  }
 ],
 "metadata": {
  "kernelspec": {
   "display_name": "Python 3",
   "language": "python",
   "name": "python3"
  },
  "language_info": {
   "codemirror_mode": {
    "name": "ipython",
    "version": 3
   },
   "file_extension": ".py",
   "mimetype": "text/x-python",
   "name": "python",
   "nbconvert_exporter": "python",
   "pygments_lexer": "ipython3",
   "version": "3.6.1"
  }
 },
 "nbformat": 4,
 "nbformat_minor": 2
}
